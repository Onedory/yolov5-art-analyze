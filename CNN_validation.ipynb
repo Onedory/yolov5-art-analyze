{
  "nbformat": 4,
  "nbformat_minor": 0,
  "metadata": {
    "colab": {
      "provenance": [],
      "machine_shape": "hm",
      "gpuType": "T4",
      "authorship_tag": "ABX9TyMSpS+t6ulaea8duZ+7CRgT",
      "include_colab_link": true
    },
    "kernelspec": {
      "name": "python3",
      "display_name": "Python 3"
    },
    "language_info": {
      "name": "python"
    },
    "accelerator": "GPU"
  },
  "cells": [
    {
      "cell_type": "markdown",
      "metadata": {
        "id": "view-in-github",
        "colab_type": "text"
      },
      "source": [
        "<a href=\"https://colab.research.google.com/github/Onedory/yolov5-art-analyze/blob/main/CNN_validation.ipynb\" target=\"_parent\"><img src=\"https://colab.research.google.com/assets/colab-badge.svg\" alt=\"Open In Colab\"/></a>"
      ]
    },
    {
      "cell_type": "markdown",
      "source": [
        "# 사전 준비 - JSON 파일에서 라벨 정보 추출"
      ],
      "metadata": {
        "id": "ukeRmSFbsLMP"
      }
    },
    {
      "cell_type": "code",
      "source": [
        "from google.colab import drive\n",
        "drive.mount('/content/drive')"
      ],
      "metadata": {
        "colab": {
          "base_uri": "https://localhost:8080/"
        },
        "id": "zu9_xGAwbqak",
        "outputId": "bad8dc51-e82c-4023-e5d5-e4c7fbbe914b"
      },
      "execution_count": null,
      "outputs": [
        {
          "output_type": "stream",
          "name": "stdout",
          "text": [
            "Mounted at /content/drive\n"
          ]
        }
      ]
    },
    {
      "cell_type": "code",
      "source": [
        "pip install tqdm\n"
      ],
      "metadata": {
        "colab": {
          "base_uri": "https://localhost:8080/"
        },
        "id": "YtD1jul7bzsI",
        "outputId": "6bea3b37-7f63-4cee-84b4-470628d9ecfa"
      },
      "execution_count": null,
      "outputs": [
        {
          "output_type": "stream",
          "name": "stdout",
          "text": [
            "Requirement already satisfied: tqdm in /usr/local/lib/python3.10/dist-packages (4.66.4)\n"
          ]
        }
      ]
    },
    {
      "cell_type": "code",
      "source": [
        "import os\n",
        "import json\n",
        "import pandas as pd\n",
        "from tqdm import tqdm\n",
        "\n",
        "def extract_labels(json_dir, img_dir):\n",
        "    if not os.path.exists(json_dir):\n",
        "        raise FileNotFoundError(f\"The JSON directory does not exist: {json_dir}\")\n",
        "    if not os.path.exists(img_dir):\n",
        "        raise FileNotFoundError(f\"The image directory does not exist: {img_dir}\")\n",
        "\n",
        "    labels = []\n",
        "    json_files = [file for file in os.listdir(json_dir) if file.endswith('.json')]\n",
        "\n",
        "    for json_file in tqdm(json_files, desc=\"Processing JSON files\"):\n",
        "        with open(os.path.join(json_dir, json_file), 'r') as f:\n",
        "            data = json.load(f)\n",
        "            img_path = data['meta']['img_path']  # JSON 파일 구조에 맞게 수정\n",
        "            img_label = data['annotations']['class']  # JSON 파일 구조에 맞게 수정\n",
        "            labels.append((img_path, img_label))\n",
        "\n",
        "    return labels\n",
        "\n",
        "# JSON 디렉토리와 이미지 디렉토리 경로\n",
        "json_dir = '/content/drive/MyDrive/Data/validation/json'\n",
        "img_dir = '/content/drive/MyDrive/Data/validation/images'\n",
        "\n",
        "# 라벨 정보 추출\n",
        "print(\"Extracting labels from JSON files...\")\n",
        "labels = extract_labels(json_dir, img_dir)\n",
        "\n",
        "# 라벨 정보를 DataFrame으로 변환하여 CSV 파일로 저장\n",
        "labels_df = pd.DataFrame(labels, columns=['image', 'label'])\n",
        "csv_dir = '/content/drive/MyDrive/Data/validation/csv'\n",
        "os.makedirs(csv_dir, exist_ok=True)\n",
        "csv_path = os.path.join(csv_dir, 'annotations.csv')\n",
        "labels_df.to_csv(csv_path, index=False)\n",
        "print(f\"CSV file saved to {csv_path}\")\n"
      ],
      "metadata": {
        "colab": {
          "base_uri": "https://localhost:8080/"
        },
        "id": "aCKTGUPMb1qn",
        "outputId": "45ea8ec7-46f2-4258-e26d-e21bda883219"
      },
      "execution_count": null,
      "outputs": [
        {
          "output_type": "stream",
          "name": "stdout",
          "text": [
            "Extracting labels from JSON files...\n"
          ]
        },
        {
          "output_type": "stream",
          "name": "stderr",
          "text": [
            "Processing JSON files: 100%|██████████| 5600/5600 [02:27<00:00, 38.05it/s] "
          ]
        },
        {
          "output_type": "stream",
          "name": "stdout",
          "text": [
            "CSV file saved to /content/drive/MyDrive/Data/validation/csv/annotations.csv\n"
          ]
        },
        {
          "output_type": "stream",
          "name": "stderr",
          "text": [
            "\n"
          ]
        }
      ]
    },
    {
      "cell_type": "markdown",
      "source": [
        "#1. 데이터셋 및 데이터로더 구성\n",
        "csv 파일을 사용하여 데이터셋과 데이터로더를 구성합니다."
      ],
      "metadata": {
        "id": "ykkho0pGsQFo"
      }
    },
    {
      "cell_type": "code",
      "source": [
        "import torch\n",
        "from torch.utils.data import Dataset, DataLoader\n",
        "from torchvision import transforms\n",
        "from PIL import Image\n",
        "import pandas as pd\n",
        "import os\n",
        "\n",
        "# 라벨 인코딩 매핑 생성\n",
        "annotations_file = '/content/drive/MyDrive/Data/validation/csv/annotations.csv'\n",
        "img_labels = pd.read_csv(annotations_file)\n",
        "label_to_idx = {label: idx for idx, label in enumerate(img_labels['label'].unique())}\n",
        "\n",
        "# 라벨 인코딩 함수 정의\n",
        "def encode_label(label):\n",
        "    return label_to_idx[label]\n",
        "\n",
        "class ObjectDataset(Dataset):\n",
        "    def __init__(self, annotations_file, img_dir, transform=None):\n",
        "        self.img_labels = pd.read_csv(annotations_file)\n",
        "        self.img_dir = img_dir\n",
        "        self.transform = transform\n",
        "\n",
        "    def __len__(self):\n",
        "        return len(self.img_labels)\n",
        "\n",
        "    def __getitem__(self, idx):\n",
        "        img_path = os.path.join(self.img_dir, self.img_labels.iloc[idx, 0].split('/')[-1])\n",
        "        try:\n",
        "            image = Image.open(img_path).convert('RGB')\n",
        "        except (OSError, IOError):\n",
        "            return None, None\n",
        "\n",
        "        label = self.img_labels.iloc[idx, 1]\n",
        "        label = torch.tensor(encode_label(label))  # Label을 tensor로 변환\n",
        "        if self.transform:\n",
        "            image = self.transform(image)\n",
        "        return image, label\n",
        "\n",
        "def collate_fn(batch):\n",
        "    batch = [b for b in batch if b[0] is not None and b[1] is not None]\n",
        "    if len(batch) == 0:\n",
        "        return torch.tensor([]), torch.tensor([])\n",
        "    return torch.utils.data.dataloader.default_collate(batch)\n",
        "\n",
        "# 데이터 변환 설정\n",
        "transform = transforms.Compose([\n",
        "    transforms.Resize((224, 224)),\n",
        "    transforms.ToTensor(),\n",
        "    transforms.Normalize(mean=[0.485, 0.456, 0.406], std=[0.229, 0.224, 0.225]),\n",
        "])\n",
        "\n",
        "# 데이터셋 및 데이터로더 생성\n",
        "val_dataset = ObjectDataset(annotations_file=annotations_file, img_dir='/content/drive/MyDrive/Data/validation/images', transform=transform)\n",
        "val_loader = DataLoader(val_dataset, batch_size=32, shuffle=False, collate_fn=collate_fn)\n",
        "\n",
        "# 데이터로더 설정\n",
        "dataloaders = {\n",
        "    'train': val_loader,  # 검증 데이터를 사용하여 모델을 학습\n",
        "    'val': val_loader\n",
        "}\n"
      ],
      "metadata": {
        "id": "29RgdkPaeFqD"
      },
      "execution_count": null,
      "outputs": []
    },
    {
      "cell_type": "markdown",
      "source": [
        "# 2. CNN 모델 설계\n",
        "\n",
        "기존의 SimpleCNN 모델에 Dropout을 추가합니다."
      ],
      "metadata": {
        "id": "Y0epsXZWtIT2"
      }
    },
    {
      "cell_type": "code",
      "source": [
        "import torch.nn as nn\n",
        "import torch.nn.functional as F\n",
        "\n",
        "class SimpleCNN(nn.Module):\n",
        "    def __init__(self, num_classes):\n",
        "        super(SimpleCNN, self).__init__()\n",
        "        self.conv1 = nn.Conv2d(3, 32, kernel_size=3, stride=1, padding=1)\n",
        "        self.pool = nn.MaxPool2d(kernel_size=2, stride=2, padding=0)\n",
        "        self.conv2 = nn.Conv2d(32, 64, kernel_size=3, stride=1, padding=1)\n",
        "        self.fc1 = nn.Linear(64 * 56 * 56, 128)  # assuming input size 224x224\n",
        "        self.dropout = nn.Dropout(0.5)\n",
        "        self.fc2 = nn.Linear(128, num_classes)\n",
        "\n",
        "    def forward(self, x):\n",
        "        x = self.pool(F.relu(self.conv1(x)))\n",
        "        x = self.pool(F.relu(self.conv2(x)))\n",
        "        x = x.view(-1, 64 * 56 * 56)\n",
        "        x = F.relu(self.fc1(x))\n",
        "        x = self.dropout(x)\n",
        "        x = self.fc2(x)\n",
        "        return x\n",
        "\n",
        "num_classes = len(label_to_idx)\n",
        "model = SimpleCNN(num_classes)\n",
        "\n",
        "# 모델을 GPU로 이동 (가능한 경우)\n",
        "device = torch.device('cuda' if torch.cuda.is_available() else 'cpu')\n",
        "model = model.to(device)\n"
      ],
      "metadata": {
        "id": "kUMDago0eaPY"
      },
      "execution_count": null,
      "outputs": []
    },
    {
      "cell_type": "markdown",
      "source": [
        "#3. 모델 훈련\n",
        "\n",
        "Early Stopping, L2 정규화, Dropout을 적용한 훈련 함수입니다."
      ],
      "metadata": {
        "id": "I75hDqwGtKIu"
      }
    },
    {
      "cell_type": "code",
      "source": [
        "import torch.optim as optim\n",
        "from torch.optim import lr_scheduler\n",
        "import copy\n",
        "from tqdm import tqdm\n",
        "import numpy as np\n",
        "\n",
        "# 손실 함수 및 옵티마이저 설정\n",
        "criterion = nn.CrossEntropyLoss()\n",
        "optimizer = optim.Adam(model.parameters(), lr=0.001, weight_decay=1e-4)  # L2 정규화(weight_decay 추가)\n",
        "scheduler = lr_scheduler.StepLR(optimizer, step_size=7, gamma=0.1)  # Learning rate decay\n",
        "\n",
        "# Early Stopping 클래스 정의\n",
        "class EarlyStopping:\n",
        "    def __init__(self, patience=5, verbose=False):\n",
        "        self.patience = patience\n",
        "        self.verbose = verbose\n",
        "        self.counter = 0\n",
        "        self.best_score = None\n",
        "        self.early_stop = False\n",
        "        self.val_loss_min = np.Inf\n",
        "\n",
        "    def __call__(self, val_loss, model):\n",
        "        score = -val_loss\n",
        "\n",
        "        if self.best_score is None:\n",
        "            self.best_score = score\n",
        "            self.save_checkpoint(val_loss, model)\n",
        "        elif score < self.best_score:\n",
        "            self.counter += 1\n",
        "            if self.verbose:\n",
        "                print(f'EarlyStopping counter: {self.counter} out of {self.patience}')\n",
        "            if self.counter >= self.patience:\n",
        "                self.early_stop = True\n",
        "        else:\n",
        "            self.best_score = score\n",
        "            self.save_checkpoint(val_loss, model)\n",
        "            self.counter = 0\n",
        "\n",
        "    def save_checkpoint(self, val_loss, model):\n",
        "        if self.verbose:\n",
        "            print(f'Validation loss decreased ({self.val_loss_min:.6f} --> {val_loss:.6f}).  Saving model ...')\n",
        "        torch.save(model.state_dict(), 'checkpoint.pt')\n",
        "        self.val_loss_min = val_loss\n",
        "\n",
        "# 모델 훈련 함수 정의\n",
        "def train_model(model, dataloaders, criterion, optimizer, scheduler, num_epochs=25, patience=5):\n",
        "    best_model_wts = copy.deepcopy(model.state_dict())\n",
        "    best_acc = 0.0\n",
        "    early_stopping = EarlyStopping(patience=patience, verbose=True)\n",
        "\n",
        "    for epoch in range(num_epochs):\n",
        "        print(f'Epoch {epoch}/{num_epochs - 1}')\n",
        "        print('-' * 10)\n",
        "\n",
        "        # 각 epoch에 대해 훈련 및 검증 단계 설정\n",
        "        for phase in ['train', 'val']:\n",
        "            if phase == 'train':\n",
        "                model.train()  # 모델을 훈련 모드로 설정\n",
        "            else:\n",
        "                model.eval()   # 모델을 평가 모드로 설정\n",
        "\n",
        "            running_loss = 0.0\n",
        "            running_corrects = 0\n",
        "\n",
        "            # 데이터 반복\n",
        "            for inputs, labels in tqdm(dataloaders[phase], desc=f'{phase} phase', leave=False):\n",
        "                if len(inputs) == 0:  # 빈 배치 무시\n",
        "                    continue\n",
        "\n",
        "                inputs = inputs.to(device)\n",
        "                labels = labels.to(device)\n",
        "\n",
        "                # 매개변수 경사도를 0으로 설정\n",
        "                optimizer.zero_grad()\n",
        "\n",
        "                # forward\n",
        "                # 훈련 단계에서만 연산 기록 추적\n",
        "                with torch.set_grad_enabled(phase == 'train'):\n",
        "                    outputs = model(inputs)\n",
        "                    _, preds = torch.max(outputs, 1)\n",
        "                    loss = criterion(outputs, labels)\n",
        "\n",
        "                    # 훈련 단계에서만 역전파 + 옵티마이저 단계 수행\n",
        "                    if phase == 'train':\n",
        "                        loss.backward()\n",
        "                        optimizer.step()\n",
        "\n",
        "                # 통계\n",
        "                running_loss += loss.item() * inputs.size(0)\n",
        "                running_corrects += torch.sum(preds == labels.data)\n",
        "\n",
        "            if phase == 'train':\n",
        "                scheduler.step()\n",
        "\n",
        "            epoch_loss = running_loss / len(dataloaders[phase].dataset)\n",
        "            epoch_acc = running_corrects.double() / len(dataloaders[phase].dataset)\n",
        "\n",
        "            print(f'{phase} Loss: {epoch_loss:.4f} Acc: {epoch_acc:.4f}')\n",
        "\n",
        "            # 모델 복사 (검증 정확도가 개선된 경우)\n",
        "            if phase == 'val' and epoch_acc > best_acc:\n",
        "                best_acc = epoch_acc\n",
        "                best_model_wts = copy.deepcopy(model.state_dict())\n",
        "\n",
        "            # Early stopping 적용\n",
        "            if phase == 'val':\n",
        "                early_stopping(epoch_loss, model)\n",
        "                if early_stopping.early_stop:\n",
        "                    print(\"Early stopping\")\n",
        "                    model.load_state_dict(torch.load('checkpoint.pt'))\n",
        "                    return model\n",
        "\n",
        "    print(f'Best val Acc: {best_acc:4f}')\n",
        "\n",
        "    # 가장 좋은 모델 가중치 로드\n",
        "    model.load_state_dict(best_model_wts)\n",
        "    return model\n",
        "\n",
        "# 모델 훈련\n",
        "model = train_model(model, dataloaders, criterion, optimizer, scheduler, num_epochs=25, patience=5)\n"
      ],
      "metadata": {
        "colab": {
          "base_uri": "https://localhost:8080/"
        },
        "id": "QKDrm_QKectq",
        "outputId": "6b91992e-3a0b-4f6a-85be-d2b5d45cbedb"
      },
      "execution_count": null,
      "outputs": [
        {
          "output_type": "stream",
          "name": "stdout",
          "text": [
            "Epoch 0/24\n",
            "----------\n"
          ]
        },
        {
          "output_type": "stream",
          "name": "stderr",
          "text": []
        },
        {
          "output_type": "stream",
          "name": "stdout",
          "text": [
            "train Loss: 24.4942 Acc: 0.4841\n"
          ]
        },
        {
          "output_type": "stream",
          "name": "stderr",
          "text": []
        },
        {
          "output_type": "stream",
          "name": "stdout",
          "text": [
            "val Loss: 1.1791 Acc: 0.2195\n",
            "Validation loss decreased (inf --> 1.179051).  Saving model ...\n",
            "Epoch 1/24\n",
            "----------\n"
          ]
        },
        {
          "output_type": "stream",
          "name": "stderr",
          "text": []
        },
        {
          "output_type": "stream",
          "name": "stdout",
          "text": [
            "train Loss: 3.2258 Acc: 0.3109\n"
          ]
        },
        {
          "output_type": "stream",
          "name": "stderr",
          "text": []
        },
        {
          "output_type": "stream",
          "name": "stdout",
          "text": [
            "val Loss: 1.1798 Acc: 0.2304\n",
            "EarlyStopping counter: 1 out of 5\n",
            "Epoch 2/24\n",
            "----------\n"
          ]
        },
        {
          "output_type": "stream",
          "name": "stderr",
          "text": []
        },
        {
          "output_type": "stream",
          "name": "stdout",
          "text": [
            "train Loss: 1.1870 Acc: 0.1777\n"
          ]
        },
        {
          "output_type": "stream",
          "name": "stderr",
          "text": []
        },
        {
          "output_type": "stream",
          "name": "stdout",
          "text": [
            "val Loss: 1.1766 Acc: 0.2304\n",
            "Validation loss decreased (1.179051 --> 1.176609).  Saving model ...\n",
            "Epoch 3/24\n",
            "----------\n"
          ]
        },
        {
          "output_type": "stream",
          "name": "stderr",
          "text": []
        },
        {
          "output_type": "stream",
          "name": "stdout",
          "text": [
            "train Loss: 1.1836 Acc: 0.2005\n"
          ]
        },
        {
          "output_type": "stream",
          "name": "stderr",
          "text": []
        },
        {
          "output_type": "stream",
          "name": "stdout",
          "text": [
            "val Loss: 1.1740 Acc: 0.2304\n",
            "Validation loss decreased (1.176609 --> 1.174022).  Saving model ...\n",
            "Epoch 4/24\n",
            "----------\n"
          ]
        },
        {
          "output_type": "stream",
          "name": "stderr",
          "text": []
        },
        {
          "output_type": "stream",
          "name": "stdout",
          "text": [
            "train Loss: 1.1811 Acc: 0.1986\n"
          ]
        },
        {
          "output_type": "stream",
          "name": "stderr",
          "text": []
        },
        {
          "output_type": "stream",
          "name": "stdout",
          "text": [
            "val Loss: 1.1719 Acc: 0.2304\n",
            "Validation loss decreased (1.174022 --> 1.171929).  Saving model ...\n",
            "Epoch 5/24\n",
            "----------\n"
          ]
        },
        {
          "output_type": "stream",
          "name": "stderr",
          "text": []
        },
        {
          "output_type": "stream",
          "name": "stdout",
          "text": [
            "train Loss: 1.1790 Acc: 0.2214\n"
          ]
        },
        {
          "output_type": "stream",
          "name": "stderr",
          "text": []
        },
        {
          "output_type": "stream",
          "name": "stdout",
          "text": [
            "val Loss: 1.1702 Acc: 0.2500\n",
            "Validation loss decreased (1.171929 --> 1.170211).  Saving model ...\n",
            "Epoch 6/24\n",
            "----------\n"
          ]
        },
        {
          "output_type": "stream",
          "name": "stderr",
          "text": []
        },
        {
          "output_type": "stream",
          "name": "stdout",
          "text": [
            "train Loss: 1.1773 Acc: 0.2500\n"
          ]
        },
        {
          "output_type": "stream",
          "name": "stderr",
          "text": []
        },
        {
          "output_type": "stream",
          "name": "stdout",
          "text": [
            "val Loss: 1.1688 Acc: 0.2500\n",
            "Validation loss decreased (1.170211 --> 1.168788).  Saving model ...\n",
            "Epoch 7/24\n",
            "----------\n"
          ]
        },
        {
          "output_type": "stream",
          "name": "stderr",
          "text": []
        },
        {
          "output_type": "stream",
          "name": "stdout",
          "text": [
            "train Loss: 1.1695 Acc: 0.2500\n"
          ]
        },
        {
          "output_type": "stream",
          "name": "stderr",
          "text": []
        },
        {
          "output_type": "stream",
          "name": "stdout",
          "text": [
            "val Loss: 1.1687 Acc: 0.2500\n",
            "Validation loss decreased (1.168788 --> 1.168652).  Saving model ...\n",
            "Epoch 8/24\n",
            "----------\n"
          ]
        },
        {
          "output_type": "stream",
          "name": "stderr",
          "text": []
        },
        {
          "output_type": "stream",
          "name": "stdout",
          "text": [
            "train Loss: 1.1694 Acc: 0.2386\n"
          ]
        },
        {
          "output_type": "stream",
          "name": "stderr",
          "text": []
        },
        {
          "output_type": "stream",
          "name": "stdout",
          "text": [
            "val Loss: 1.1685 Acc: 0.2500\n",
            "Validation loss decreased (1.168652 --> 1.168518).  Saving model ...\n",
            "Epoch 9/24\n",
            "----------\n"
          ]
        },
        {
          "output_type": "stream",
          "name": "stderr",
          "text": []
        },
        {
          "output_type": "stream",
          "name": "stdout",
          "text": [
            "train Loss: 1.1692 Acc: 0.2329\n"
          ]
        },
        {
          "output_type": "stream",
          "name": "stderr",
          "text": []
        },
        {
          "output_type": "stream",
          "name": "stdout",
          "text": [
            "val Loss: 1.1684 Acc: 0.2500\n",
            "Validation loss decreased (1.168518 --> 1.168387).  Saving model ...\n",
            "Epoch 10/24\n",
            "----------\n"
          ]
        },
        {
          "output_type": "stream",
          "name": "stderr",
          "text": []
        },
        {
          "output_type": "stream",
          "name": "stdout",
          "text": [
            "train Loss: 1.1691 Acc: 0.2214\n"
          ]
        },
        {
          "output_type": "stream",
          "name": "stderr",
          "text": []
        },
        {
          "output_type": "stream",
          "name": "stdout",
          "text": [
            "val Loss: 1.1683 Acc: 0.2500\n",
            "Validation loss decreased (1.168387 --> 1.168258).  Saving model ...\n",
            "Epoch 11/24\n",
            "----------\n"
          ]
        },
        {
          "output_type": "stream",
          "name": "stderr",
          "text": []
        },
        {
          "output_type": "stream",
          "name": "stdout",
          "text": [
            "train Loss: 1.1690 Acc: 0.2214\n"
          ]
        },
        {
          "output_type": "stream",
          "name": "stderr",
          "text": []
        },
        {
          "output_type": "stream",
          "name": "stdout",
          "text": [
            "val Loss: 1.1681 Acc: 0.2500\n",
            "Validation loss decreased (1.168258 --> 1.168132).  Saving model ...\n",
            "Epoch 12/24\n",
            "----------\n"
          ]
        },
        {
          "output_type": "stream",
          "name": "stderr",
          "text": []
        },
        {
          "output_type": "stream",
          "name": "stdout",
          "text": [
            "train Loss: 1.1689 Acc: 0.2157\n"
          ]
        },
        {
          "output_type": "stream",
          "name": "stderr",
          "text": []
        },
        {
          "output_type": "stream",
          "name": "stdout",
          "text": [
            "val Loss: 1.1680 Acc: 0.2500\n",
            "Validation loss decreased (1.168132 --> 1.168009).  Saving model ...\n",
            "Epoch 13/24\n",
            "----------\n"
          ]
        },
        {
          "output_type": "stream",
          "name": "stderr",
          "text": []
        },
        {
          "output_type": "stream",
          "name": "stdout",
          "text": [
            "train Loss: 1.1687 Acc: 0.2100\n"
          ]
        },
        {
          "output_type": "stream",
          "name": "stderr",
          "text": []
        },
        {
          "output_type": "stream",
          "name": "stdout",
          "text": [
            "val Loss: 1.1679 Acc: 0.2500\n",
            "Validation loss decreased (1.168009 --> 1.167887).  Saving model ...\n",
            "Epoch 14/24\n",
            "----------\n"
          ]
        },
        {
          "output_type": "stream",
          "name": "stderr",
          "text": []
        },
        {
          "output_type": "stream",
          "name": "stdout",
          "text": [
            "train Loss: 1.1680 Acc: 0.2100\n"
          ]
        },
        {
          "output_type": "stream",
          "name": "stderr",
          "text": []
        },
        {
          "output_type": "stream",
          "name": "stdout",
          "text": [
            "val Loss: 1.1679 Acc: 0.2500\n",
            "Validation loss decreased (1.167887 --> 1.167875).  Saving model ...\n",
            "Epoch 15/24\n",
            "----------\n"
          ]
        },
        {
          "output_type": "stream",
          "name": "stderr",
          "text": []
        },
        {
          "output_type": "stream",
          "name": "stdout",
          "text": [
            "train Loss: 1.1679 Acc: 0.2214\n"
          ]
        },
        {
          "output_type": "stream",
          "name": "stderr",
          "text": []
        },
        {
          "output_type": "stream",
          "name": "stdout",
          "text": [
            "val Loss: 1.1679 Acc: 0.2500\n",
            "Validation loss decreased (1.167875 --> 1.167864).  Saving model ...\n",
            "Epoch 16/24\n",
            "----------\n"
          ]
        },
        {
          "output_type": "stream",
          "name": "stderr",
          "text": []
        },
        {
          "output_type": "stream",
          "name": "stdout",
          "text": [
            "train Loss: 1.1679 Acc: 0.2329\n"
          ]
        },
        {
          "output_type": "stream",
          "name": "stderr",
          "text": []
        },
        {
          "output_type": "stream",
          "name": "stdout",
          "text": [
            "val Loss: 1.1679 Acc: 0.2500\n",
            "Validation loss decreased (1.167864 --> 1.167852).  Saving model ...\n",
            "Epoch 17/24\n",
            "----------\n"
          ]
        },
        {
          "output_type": "stream",
          "name": "stderr",
          "text": []
        },
        {
          "output_type": "stream",
          "name": "stdout",
          "text": [
            "train Loss: 1.1679 Acc: 0.2500\n"
          ]
        },
        {
          "output_type": "stream",
          "name": "stderr",
          "text": []
        },
        {
          "output_type": "stream",
          "name": "stdout",
          "text": [
            "val Loss: 1.1678 Acc: 0.2500\n",
            "Validation loss decreased (1.167852 --> 1.167839).  Saving model ...\n",
            "Epoch 18/24\n",
            "----------\n"
          ]
        },
        {
          "output_type": "stream",
          "name": "stderr",
          "text": []
        },
        {
          "output_type": "stream",
          "name": "stdout",
          "text": [
            "train Loss: 1.1679 Acc: 0.2500\n"
          ]
        },
        {
          "output_type": "stream",
          "name": "stderr",
          "text": []
        },
        {
          "output_type": "stream",
          "name": "stdout",
          "text": [
            "val Loss: 1.1678 Acc: 0.2500\n",
            "Validation loss decreased (1.167839 --> 1.167827).  Saving model ...\n",
            "Epoch 19/24\n",
            "----------\n"
          ]
        },
        {
          "output_type": "stream",
          "name": "stderr",
          "text": []
        },
        {
          "output_type": "stream",
          "name": "stdout",
          "text": [
            "train Loss: 1.1679 Acc: 0.2500\n"
          ]
        },
        {
          "output_type": "stream",
          "name": "stderr",
          "text": []
        },
        {
          "output_type": "stream",
          "name": "stdout",
          "text": [
            "val Loss: 1.1678 Acc: 0.2500\n",
            "Validation loss decreased (1.167827 --> 1.167815).  Saving model ...\n",
            "Epoch 20/24\n",
            "----------\n"
          ]
        },
        {
          "output_type": "stream",
          "name": "stderr",
          "text": []
        },
        {
          "output_type": "stream",
          "name": "stdout",
          "text": [
            "train Loss: 1.1679 Acc: 0.2500\n"
          ]
        },
        {
          "output_type": "stream",
          "name": "stderr",
          "text": []
        },
        {
          "output_type": "stream",
          "name": "stdout",
          "text": [
            "val Loss: 1.1678 Acc: 0.2500\n",
            "Validation loss decreased (1.167815 --> 1.167803).  Saving model ...\n",
            "Epoch 21/24\n",
            "----------\n"
          ]
        },
        {
          "output_type": "stream",
          "name": "stderr",
          "text": []
        },
        {
          "output_type": "stream",
          "name": "stdout",
          "text": [
            "train Loss: 1.1678 Acc: 0.2500\n"
          ]
        },
        {
          "output_type": "stream",
          "name": "stderr",
          "text": []
        },
        {
          "output_type": "stream",
          "name": "stdout",
          "text": [
            "val Loss: 1.1678 Acc: 0.2500\n",
            "Validation loss decreased (1.167803 --> 1.167802).  Saving model ...\n",
            "Epoch 22/24\n",
            "----------\n"
          ]
        },
        {
          "output_type": "stream",
          "name": "stderr",
          "text": []
        },
        {
          "output_type": "stream",
          "name": "stdout",
          "text": [
            "train Loss: 1.1678 Acc: 0.2500\n"
          ]
        },
        {
          "output_type": "stream",
          "name": "stderr",
          "text": []
        },
        {
          "output_type": "stream",
          "name": "stdout",
          "text": [
            "val Loss: 1.1678 Acc: 0.2500\n",
            "Validation loss decreased (1.167802 --> 1.167801).  Saving model ...\n",
            "Epoch 23/24\n",
            "----------\n"
          ]
        },
        {
          "output_type": "stream",
          "name": "stderr",
          "text": []
        },
        {
          "output_type": "stream",
          "name": "stdout",
          "text": [
            "train Loss: 1.1678 Acc: 0.2500\n"
          ]
        },
        {
          "output_type": "stream",
          "name": "stderr",
          "text": []
        },
        {
          "output_type": "stream",
          "name": "stdout",
          "text": [
            "val Loss: 1.1678 Acc: 0.2500\n",
            "Validation loss decreased (1.167801 --> 1.167800).  Saving model ...\n",
            "Epoch 24/24\n",
            "----------\n"
          ]
        },
        {
          "output_type": "stream",
          "name": "stderr",
          "text": []
        },
        {
          "output_type": "stream",
          "name": "stdout",
          "text": [
            "train Loss: 1.1678 Acc: 0.2500\n"
          ]
        },
        {
          "output_type": "stream",
          "name": "stderr",
          "text": []
        },
        {
          "output_type": "stream",
          "name": "stdout",
          "text": [
            "val Loss: 1.1678 Acc: 0.2500\n",
            "Validation loss decreased (1.167800 --> 1.167799).  Saving model ...\n",
            "Best val Acc: 0.250000\n"
          ]
        }
      ]
    }
  ]
}