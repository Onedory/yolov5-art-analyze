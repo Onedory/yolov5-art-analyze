{
  "nbformat": 4,
  "nbformat_minor": 0,
  "metadata": {
    "colab": {
      "provenance": [],
      "gpuType": "T4",
      "machine_shape": "hm",
      "mount_file_id": "1FDdTPcQexNV35ZZ04V7t6XnZUvFKhCV7",
      "authorship_tag": "ABX9TyOmJmqfYbuyPMVFCG+u0onA",
      "include_colab_link": true
    },
    "kernelspec": {
      "name": "python3",
      "display_name": "Python 3"
    },
    "language_info": {
      "name": "python"
    },
    "accelerator": "GPU"
  },
  "cells": [
    {
      "cell_type": "markdown",
      "metadata": {
        "id": "view-in-github",
        "colab_type": "text"
      },
      "source": [
        "<a href=\"https://colab.research.google.com/github/Onedory/yolov5-art-analyze/blob/main/%EB%9E%9C%EB%8D%A4%ED%8F%AC%EB%A0%88%EC%8A%A4%ED%8A%B8.ipynb\" target=\"_parent\"><img src=\"https://colab.research.google.com/assets/colab-badge.svg\" alt=\"Open In Colab\"/></a>"
      ]
    },
    {
      "cell_type": "markdown",
      "source": [
        "# 1. 데이터 전처리: 병렬 처리 및 GPU 사용"
      ],
      "metadata": {
        "id": "KrCeZ371zKjb"
      }
    },
    {
      "cell_type": "code",
      "execution_count": null,
      "metadata": {
        "colab": {
          "base_uri": "https://localhost:8080/"
        },
        "id": "2Xq6OtvDyebu",
        "outputId": "444fab45-86ef-409b-a6db-f41811471904"
      },
      "outputs": [
        {
          "output_type": "stream",
          "name": "stderr",
          "text": [
            "Using cache found in /root/.cache/torch/hub/ultralytics_yolov5_master\n",
            "YOLOv5 🚀 2024-7-1 Python-3.10.12 torch-2.3.0+cu121 CUDA:0 (Tesla T4, 15102MiB)\n",
            "\n",
            "Fusing layers... \n",
            "Model summary: 157 layers, 7139581 parameters, 0 gradients, 16.2 GFLOPs\n",
            "Adding AutoShape... \n",
            "Extracting object features:   0%|          | 0/44799 [00:00<?, ?it/s]WARNING ⚠️ NMS time limit 0.550s exceeded\n",
            "WARNING ⚠️ NMS time limit 0.550s exceeded\n",
            "WARNING ⚠️ NMS time limit 0.550s exceeded\n",
            "WARNING ⚠️ NMS time limit 0.550s exceeded\n",
            "WARNING ⚠️ NMS time limit 0.550s exceeded\n",
            "WARNING ⚠️ NMS time limit 0.550s exceeded\n",
            "WARNING ⚠️ NMS time limit 0.550s exceeded\n",
            "WARNING ⚠️ NMS time limit 0.550s exceeded\n",
            "Extracting object features: 100%|██████████| 44799/44799 [1:09:00<00:00, 10.82it/s]\n"
          ]
        },
        {
          "output_type": "stream",
          "name": "stdout",
          "text": [
            "Extracted features array shape: (1195974, 6)\n"
          ]
        }
      ],
      "source": [
        "import torch\n",
        "import cv2\n",
        "import numpy as np\n",
        "import os\n",
        "from tqdm import tqdm\n",
        "from concurrent.futures import ThreadPoolExecutor, as_completed\n",
        "\n",
        "# YOLO 모델 로드 (GPU 사용)\n",
        "device = torch.device('cuda' if torch.cuda.is_available() else 'cpu')\n",
        "model = torch.hub.load('ultralytics/yolov5', 'custom', path='/content/drive/MyDrive/yolov5_checkpoints/yolov5_results8/weights/best.pt', trust_repo=True).to(device)\n",
        "model.eval()\n",
        "\n",
        "def extract_object_features(image_path):\n",
        "    if not os.path.exists(image_path):\n",
        "        print(f\"Image not found: {image_path}\")\n",
        "        return []\n",
        "\n",
        "    img = cv2.imread(image_path)\n",
        "    if img is None:\n",
        "        print(f\"Failed to load image: {image_path}\")\n",
        "        return []\n",
        "\n",
        "    img = cv2.cvtColor(img, cv2.COLOR_BGR2RGB)\n",
        "\n",
        "    # 객체 감지 수행 (GPU 사용)\n",
        "    results = model(img)\n",
        "    features = []\n",
        "\n",
        "    for result in results.xyxy[0].cpu().numpy():\n",
        "        x1, y1, x2, y2, confidence, class_id = result[:6]\n",
        "        width = x2 - x1\n",
        "        height = y2 - y1\n",
        "        features.append([x1, y1, width, height, confidence, int(class_id)])\n",
        "\n",
        "    return features\n",
        "\n",
        "# 이미지 경로 확인\n",
        "image_dir = '/content/drive/MyDrive/Data/train/images'\n",
        "if not os.path.exists(image_dir):\n",
        "    raise FileNotFoundError(f\"Directory not found: {image_dir}\")\n",
        "\n",
        "try:\n",
        "    image_files = [os.path.join(image_dir, file) for file in os.listdir(image_dir) if file.endswith('.jpg')]\n",
        "except OSError as e:\n",
        "    print(f\"Error accessing directory {image_dir}: {e}\")\n",
        "    image_files = []\n",
        "\n",
        "# 특징 데이터를 수집하는 함수\n",
        "def collect_features(image_file):\n",
        "    try:\n",
        "        features = extract_object_features(image_file)\n",
        "        return features\n",
        "    except Exception as e:\n",
        "        print(f\"Error processing {image_file}: {e}\")\n",
        "        return []\n",
        "\n",
        "# 병렬 처리를 사용하여 특징 데이터 수집\n",
        "features_list = []\n",
        "if image_files:\n",
        "    with ThreadPoolExecutor(max_workers=8) as executor:  # 적절한 max_workers 값을 설정하세요\n",
        "        future_to_file = {executor.submit(collect_features, image_file): image_file for image_file in image_files}\n",
        "        for future in tqdm(as_completed(future_to_file), total=len(image_files), desc=\"Extracting object features\"):\n",
        "            result = future.result()\n",
        "            if result:  # 결과가 비어있지 않을 때만 추가\n",
        "                features_list.extend(result)\n",
        "\n",
        "# 특징 데이터 배열로 변환\n",
        "if features_list:\n",
        "    features_array = np.array(features_list)\n",
        "    print(f\"Extracted features array shape: {features_array.shape}\")\n",
        "else:\n",
        "    features_array = np.array([])\n",
        "    print(\"No features extracted.\")\n"
      ]
    },
    {
      "cell_type": "markdown",
      "source": [
        "# 2. 랜덤 포레스트 모델 학습 및 모델 저장"
      ],
      "metadata": {
        "id": "k6slgw6L0cWT"
      }
    },
    {
      "cell_type": "code",
      "source": [
        "pip install tqdm"
      ],
      "metadata": {
        "colab": {
          "base_uri": "https://localhost:8080/"
        },
        "id": "KMeWViwREjFZ",
        "outputId": "20ce836b-d2dd-408a-a952-0cee663bff9d"
      },
      "execution_count": null,
      "outputs": [
        {
          "output_type": "stream",
          "name": "stdout",
          "text": [
            "Requirement already satisfied: tqdm in /usr/local/lib/python3.10/dist-packages (4.66.4)\n"
          ]
        }
      ]
    },
    {
      "cell_type": "code",
      "source": [
        "from sklearn.ensemble import RandomForestClassifier\n",
        "from sklearn.model_selection import train_test_split\n",
        "from sklearn.metrics import accuracy_score, classification_report\n",
        "import joblib\n",
        "from tqdm import tqdm\n",
        "\n",
        "if features_array.size > 0:\n",
        "    # 특징 데이터와 라벨 분리\n",
        "    X = features_array[:, :-1]  # 특징 데이터\n",
        "    y = features_array[:, -1]  # 라벨 (객체 클래스)\n",
        "\n",
        "    # 데이터 분할\n",
        "    X_train, X_test, y_train, y_test = train_test_split(X, y, test_size=0.2, random_state=42)\n",
        "\n",
        "    # 랜덤 포레스트 모델 학습\n",
        "    rf_clf = RandomForestClassifier(n_estimators=100, random_state=42)\n",
        "\n",
        "    # tqdm을 사용한 모델 학습 진행 표시\n",
        "    print(\"Training RandomForestClassifier...\")\n",
        "    for i in tqdm(range(1)):\n",
        "        rf_clf.fit(X_train, y_train)\n",
        "\n",
        "    # 예측 수행\n",
        "    print(\"Predicting...\")\n",
        "    y_pred = []\n",
        "    for i in tqdm(range(len(X_test))):\n",
        "        y_pred.append(rf_clf.predict([X_test[i]]))\n",
        "    y_pred = np.array(y_pred).flatten()\n",
        "\n",
        "    # 모델 평가\n",
        "    accuracy = accuracy_score(y_test, y_pred)\n",
        "    print(f\"Accuracy: {accuracy:.4f}\")\n",
        "    print(\"Classification Report:\")\n",
        "    print(classification_report(y_test, y_pred))\n",
        "\n",
        "    # 모델 저장\n",
        "    model_path = '/content/drive/MyDrive/random_forest_best_model.joblib'\n",
        "    joblib.dump(rf_clf, model_path)\n",
        "    print(f\"Model saved to {model_path}\")\n",
        "else:\n",
        "    print(\"No data available for training.\")\n"
      ],
      "metadata": {
        "id": "Jv-K1skg0ZKb",
        "colab": {
          "base_uri": "https://localhost:8080/"
        },
        "outputId": "cc890f9b-cfa4-4a1b-cb8e-f30f3537381f"
      },
      "execution_count": null,
      "outputs": [
        {
          "output_type": "stream",
          "name": "stdout",
          "text": [
            "Training RandomForestClassifier...\n"
          ]
        },
        {
          "output_type": "stream",
          "name": "stderr",
          "text": [
            "100%|██████████| 1/1 [10:00<00:00, 600.31s/it]\n"
          ]
        },
        {
          "output_type": "stream",
          "name": "stdout",
          "text": [
            "Predicting...\n"
          ]
        },
        {
          "output_type": "stream",
          "name": "stderr",
          "text": [
            "100%|██████████| 239195/239195 [17:30<00:00, 227.66it/s]\n"
          ]
        },
        {
          "output_type": "stream",
          "name": "stdout",
          "text": [
            "Accuracy: 0.5155\n",
            "Classification Report:\n",
            "              precision    recall  f1-score   support\n",
            "\n",
            "         0.0       0.55      0.40      0.46      2365\n",
            "         1.0       0.62      0.48      0.54      2314\n",
            "         2.0       0.49      0.44      0.47      2471\n",
            "         3.0       0.29      0.14      0.19      2560\n",
            "         4.0       0.32      0.20      0.24      4199\n",
            "         5.0       0.51      0.48      0.49      2351\n",
            "         6.0       0.39      0.36      0.38      2463\n",
            "         7.0       0.49      0.48      0.49      3629\n",
            "         8.0       0.48      0.42      0.45      2748\n",
            "         9.0       0.51      0.46      0.48      2328\n",
            "        10.0       0.60      0.61      0.61      3142\n",
            "        11.0       0.56      0.49      0.53      2770\n",
            "        13.0       0.56      0.56      0.56      9809\n",
            "        14.0       0.64      0.71      0.67      2230\n",
            "        15.0       0.62      0.59      0.61      2413\n",
            "        16.0       0.61      0.58      0.59      2545\n",
            "        17.0       0.49      0.44      0.47      2433\n",
            "        18.0       0.38      0.35      0.37      4141\n",
            "        19.0       0.72      0.72      0.72      2320\n",
            "        20.0       0.28      0.23      0.25      7500\n",
            "        21.0       0.56      0.55      0.55      9622\n",
            "        22.0       0.32      0.29      0.30      8085\n",
            "        23.0       0.44      0.30      0.36      2388\n",
            "        24.0       0.26      0.12      0.16      2580\n",
            "        25.0       0.28      0.12      0.17      2477\n",
            "        26.0       0.66      0.66      0.66      4311\n",
            "        27.0       0.59      0.55      0.57      2417\n",
            "        28.0       0.60      0.68      0.64      7162\n",
            "        29.0       0.66      0.72      0.69      5857\n",
            "        30.0       0.61      0.70      0.65      4733\n",
            "        31.0       0.56      0.68      0.62      5257\n",
            "        32.0       0.47      0.48      0.48     10020\n",
            "        33.0       0.45      0.41      0.43      5010\n",
            "        34.0       0.57      0.54      0.56      5110\n",
            "        35.0       0.50      0.61      0.55      9113\n",
            "        36.0       0.51      0.48      0.50      4768\n",
            "        37.0       0.42      0.42      0.42      4857\n",
            "        38.0       0.54      0.61      0.57      5093\n",
            "        39.0       0.56      0.61      0.58      9334\n",
            "        40.0       0.40      0.45      0.43     10000\n",
            "        41.0       0.66      0.72      0.69      9569\n",
            "        42.0       0.58      0.68      0.62      9977\n",
            "        43.0       0.64      0.74      0.69      6221\n",
            "        44.0       0.48      0.59      0.53      9052\n",
            "        45.0       0.54      0.52      0.53      9632\n",
            "        46.0       0.26      0.18      0.21      4806\n",
            "        47.0       0.40      0.50      0.44      5013\n",
            "\n",
            "    accuracy                           0.52    239195\n",
            "   macro avg       0.50      0.49      0.49    239195\n",
            "weighted avg       0.51      0.52      0.51    239195\n",
            "\n",
            "Model saved to /content/drive/MyDrive/random_forest_best_model.joblib\n"
          ]
        }
      ]
    },
    {
      "cell_type": "code",
      "source": [
        "from google.colab import drive\n",
        "drive.mount('/content/drive')"
      ],
      "metadata": {
        "colab": {
          "base_uri": "https://localhost:8080/"
        },
        "id": "Z0wWxGw2wxPM",
        "outputId": "9c6b0030-2487-44df-b751-b976cd870e46"
      },
      "execution_count": null,
      "outputs": [
        {
          "output_type": "stream",
          "name": "stdout",
          "text": [
            "Drive already mounted at /content/drive; to attempt to forcibly remount, call drive.mount(\"/content/drive\", force_remount=True).\n"
          ]
        }
      ]
    }
  ]
}