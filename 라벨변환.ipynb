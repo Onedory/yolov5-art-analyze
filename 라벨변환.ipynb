{
  "cells": [
    {
      "cell_type": "markdown",
      "metadata": {
        "id": "view-in-github",
        "colab_type": "text"
      },
      "source": [
        "<a href=\"https://colab.research.google.com/github/Onedory/yolov5-art-analyze/blob/main/%EB%9D%BC%EB%B2%A8%EB%B3%80%ED%99%98.ipynb\" target=\"_parent\"><img src=\"https://colab.research.google.com/assets/colab-badge.svg\" alt=\"Open In Colab\"/></a>"
      ]
    },
    {
      "cell_type": "code",
      "execution_count": null,
      "metadata": {
        "colab": {
          "base_uri": "https://localhost:8080/"
        },
        "id": "NRB80YQDm2sP",
        "outputId": "aae3aad2-93a5-467a-9cc7-ac77709c5dc2"
      },
      "outputs": [
        {
          "name": "stdout",
          "output_type": "stream",
          "text": [
            "Mounted at /content/drive\n"
          ]
        }
      ],
      "source": [
        "from google.colab import drive\n",
        "import json\n",
        "import os\n",
        "\n",
        "# 구글 드라이브 마운트\n",
        "drive.mount('/content/drive')\n"
      ]
    },
    {
      "cell_type": "markdown",
      "source": [
        "1. train데이터 라벨 변환\n"
      ],
      "metadata": {
        "id": "B1xQudMONu_3"
      }
    },
    {
      "cell_type": "code",
      "execution_count": null,
      "metadata": {
        "colab": {
          "base_uri": "https://localhost:8080/"
        },
        "id": "GG0nMzqcmvW_",
        "outputId": "58ee61a0-f47c-491a-d62e-95604a7364d0"
      },
      "outputs": [
        {
          "output_type": "stream",
          "name": "stdout",
          "text": [
            "YOLO 포맷으로 변환 완료\n"
          ]
        }
      ],
      "source": [
        "from google.colab import drive\n",
        "import json\n",
        "import os\n",
        "\n",
        "# 클래스 이름을 YOLO 클래스 ID로 매핑하는 딕셔너리\n",
        "class_mapping = {\n",
        "    \"집전체\": 0,\n",
        "    \"지붕\": 1,\n",
        "    \"집벽\": 2,\n",
        "    \"문\": 3,\n",
        "    \"창문\": 4,\n",
        "    \"굴뚝\": 5,\n",
        "    \"연기\": 6,\n",
        "    \"울타리\": 7,\n",
        "    \"길\": 8,\n",
        "    \"연못\": 9,\n",
        "    \"산\": 10,\n",
        "    \"나무\": 11,\n",
        "    \"꽃\": 12,\n",
        "    \"잔디\": 13,\n",
        "    \"태양\": 14,\n",
        "    \"나무전체\": 15,\n",
        "    \"기둥\": 16,\n",
        "    \"수관\": 17,\n",
        "    \"가지\": 18,\n",
        "    \"뿌리\": 19,\n",
        "    \"나뭇잎\": 20,\n",
        "    \"꽃\": 21,\n",
        "    \"열매\": 22,\n",
        "    \"그네\": 23,\n",
        "    \"새\": 24,\n",
        "    \"다람쥐\": 25,\n",
        "    \"구름\": 26,\n",
        "    \"달\": 27,\n",
        "    \"별\": 28,\n",
        "    \"사람전체\": 29,\n",
        "    \"머리\": 30,\n",
        "    \"얼굴\": 31,\n",
        "    \"눈\": 32,\n",
        "    \"코\": 33,\n",
        "    \"입\": 34,\n",
        "    \"귀\": 35,\n",
        "    \"머리카락\": 36,\n",
        "    \"목\": 37,\n",
        "    \"상체\": 38,\n",
        "    \"팔\": 39,\n",
        "    \"손\": 40,\n",
        "    \"다리\": 41,\n",
        "    \"발\": 42,\n",
        "    \"단추\": 43,\n",
        "    \"주머니\": 44,\n",
        "    \"운동화\": 45,\n",
        "    \"여자구두\": 46,\n",
        "    \"남자구두\": 47\n",
        "}\n",
        "\n",
        "# 파일 경로 설정\n",
        "json_folder_path = '/content/drive/MyDrive/Data/json'\n",
        "label_folder_path = '/content/drive/MyDrive/Data/train/labels'\n",
        "\n",
        "# 경로가 제대로 마운트되었는지 확인\n",
        "if not os.path.exists(json_folder_path):\n",
        "    raise FileNotFoundError(f\"경로를 찾을 수 없습니다: {json_folder_path}\")\n",
        "\n",
        "if not os.path.exists(label_folder_path):\n",
        "    os.makedirs(label_folder_path, exist_ok=True)\n",
        "\n",
        "# JSON 파일 읽기 및 YOLO 포맷으로 변환\n",
        "for json_file in os.listdir(json_folder_path):\n",
        "    if json_file.endswith('.json'):\n",
        "        with open(os.path.join(json_folder_path, json_file), 'r', encoding='utf-8') as f:\n",
        "            data = json.load(f)\n",
        "\n",
        "        image_width, image_height = 1280, 1280  # 이미지의 해상도\n",
        "\n",
        "        annotations = data[\"annotations\"][\"bbox\"]\n",
        "        yolo_annotations = []\n",
        "\n",
        "        for annotation in annotations:\n",
        "            class_name = annotation[\"label\"]\n",
        "            if class_name not in class_mapping:\n",
        "                print(f\"라벨 '{class_name}'이(가) class_mapping에 정의되어 있지 않습니다.\")\n",
        "                continue\n",
        "            class_id = class_mapping[class_name]\n",
        "\n",
        "            x_center = (annotation[\"x\"] + annotation[\"w\"] / 2) / image_width\n",
        "            y_center = (annotation[\"y\"] + annotation[\"h\"] / 2) / image_height\n",
        "            width = annotation[\"w\"] / image_width\n",
        "            height = annotation[\"h\"] / image_height\n",
        "\n",
        "            yolo_annotations.append(f\"{class_id} {x_center} {y_center} {width} {height}\")\n",
        "\n",
        "        # YOLO 포맷의 텍스트 파일로 저장\n",
        "        label_file_name = os.path.splitext(json_file)[0] + '.txt'\n",
        "        with open(os.path.join(label_folder_path, label_file_name), 'w', encoding='utf-8') as f:\n",
        "            f.write('\\n'.join(yolo_annotations))\n",
        "\n",
        "print(\"YOLO 포맷으로 변환 완료\")\n"
      ]
    },
    {
      "cell_type": "markdown",
      "source": [
        "2. validation 데이터의 라벨변환\n"
      ],
      "metadata": {
        "id": "lOl1wzhNNy_x"
      }
    },
    {
      "cell_type": "code",
      "source": [
        "from google.colab import drive\n",
        "import json\n",
        "import os\n",
        "from tqdm import tqdm\n",
        "\n",
        "# 클래스 이름을 YOLO 클래스 ID로 매핑하는 딕셔너리\n",
        "class_mapping = {\n",
        "    \"집전체\": 0,\n",
        "    \"지붕\": 1,\n",
        "    \"집벽\": 2,\n",
        "    \"문\": 3,\n",
        "    \"창문\": 4,\n",
        "    \"굴뚝\": 5,\n",
        "    \"연기\": 6,\n",
        "    \"울타리\": 7,\n",
        "    \"길\": 8,\n",
        "    \"연못\": 9,\n",
        "    \"산\": 10,\n",
        "    \"나무\": 11,\n",
        "    \"꽃\": 12,\n",
        "    \"잔디\": 13,\n",
        "    \"태양\": 14,\n",
        "    \"나무전체\": 15,\n",
        "    \"기둥\": 16,\n",
        "    \"수관\": 17,\n",
        "    \"가지\": 18,\n",
        "    \"뿌리\": 19,\n",
        "    \"나뭇잎\": 20,\n",
        "    \"꽃\": 21,\n",
        "    \"열매\": 22,\n",
        "    \"그네\": 23,\n",
        "    \"새\": 24,\n",
        "    \"다람쥐\": 25,\n",
        "    \"구름\": 26,\n",
        "    \"달\": 27,\n",
        "    \"별\": 28,\n",
        "    \"사람전체\": 29,\n",
        "    \"머리\": 30,\n",
        "    \"얼굴\": 31,\n",
        "    \"눈\": 32,\n",
        "    \"코\": 33,\n",
        "    \"입\": 34,\n",
        "    \"귀\": 35,\n",
        "    \"머리카락\": 36,\n",
        "    \"목\": 37,\n",
        "    \"상체\": 38,\n",
        "    \"팔\": 39,\n",
        "    \"손\": 40,\n",
        "    \"다리\": 41,\n",
        "    \"발\": 42,\n",
        "    \"단추\": 43,\n",
        "    \"주머니\": 44,\n",
        "    \"운동화\": 45,\n",
        "    \"여자구두\": 46,\n",
        "    \"남자구두\": 47\n",
        "}\n",
        "\n",
        "# 파일 경로 설정\n",
        "json_folder_path = '/content/drive/MyDrive/Data/validation/json'\n",
        "label_folder_path = '/content/drive/MyDrive/Data/validation/labels'\n",
        "\n",
        "# 경로가 제대로 마운트되었는지 확인\n",
        "if not os.path.exists(json_folder_path):\n",
        "    raise FileNotFoundError(f\"경로를 찾을 수 없습니다: {json_folder_path}\")\n",
        "\n",
        "if not os.path.exists(label_folder_path):\n",
        "    os.makedirs(label_folder_path, exist_ok=True)\n",
        "\n",
        "# JSON 파일 읽기 및 YOLO 포맷으로 변환\n",
        "json_files = [f for f in os.listdir(json_folder_path) if f.endswith('.json')]\n",
        "\n",
        "for json_file in tqdm(json_files, desc=\"YOLO 포맷으로 변환 중\"):\n",
        "    with open(os.path.join(json_folder_path, json_file), 'r', encoding='utf-8') as f:\n",
        "        data = json.load(f)\n",
        "\n",
        "    image_width, image_height = 1280, 1280  # 이미지의 해상도\n",
        "\n",
        "    annotations = data[\"annotations\"][\"bbox\"]\n",
        "    yolo_annotations = []\n",
        "\n",
        "    for annotation in annotations:\n",
        "        class_name = annotation[\"label\"]\n",
        "        if class_name not in class_mapping:\n",
        "            print(f\"라벨 '{class_name}'이(가) class_mapping에 정의되어 있지 않습니다.\")\n",
        "            continue\n",
        "        class_id = class_mapping[class_name]\n",
        "\n",
        "        x_center = (annotation[\"x\"] + annotation[\"w\"] / 2) / image_width\n",
        "        y_center = (annotation[\"y\"] + annotation[\"h\"] / 2) / image_height\n",
        "        width = annotation[\"w\"] / image_width\n",
        "        height = annotation[\"h\"] / image_height\n",
        "\n",
        "        yolo_annotations.append(f\"{class_id} {x_center} {y_center} {width} {height}\")\n",
        "\n",
        "    # YOLO 포맷의 텍스트 파일로 저장\n",
        "    label_file_name = os.path.splitext(json_file)[0] + '.txt'\n",
        "    with open(os.path.join(label_folder_path, label_file_name), 'w', encoding='utf-8') as f:\n",
        "        f.write('\\n'.join(yolo_annotations))\n",
        "\n",
        "print(\"YOLO 포맷으로 변환 완료\")\n"
      ],
      "metadata": {
        "colab": {
          "base_uri": "https://localhost:8080/"
        },
        "id": "nT-XXsNDN2G4",
        "outputId": "c1cbeb0c-a14a-470a-980a-2d23d811995f"
      },
      "execution_count": null,
      "outputs": [
        {
          "output_type": "stream",
          "name": "stderr",
          "text": [
            "YOLO 포맷으로 변환 중: 100%|██████████| 5600/5600 [02:59<00:00, 31.24it/s]"
          ]
        },
        {
          "output_type": "stream",
          "name": "stdout",
          "text": [
            "YOLO 포맷으로 변환 완료\n"
          ]
        },
        {
          "output_type": "stream",
          "name": "stderr",
          "text": [
            "\n"
          ]
        }
      ]
    }
  ],
  "metadata": {
    "colab": {
      "provenance": [],
      "machine_shape": "hm",
      "gpuType": "T4",
      "mount_file_id": "1WewgOmq6c95j3W_hXckBahUDEg3HEn9x",
      "authorship_tag": "ABX9TyNhSvQpzWC4n5uMtiy1N02m",
      "include_colab_link": true
    },
    "kernelspec": {
      "display_name": "Python 3",
      "name": "python3"
    },
    "language_info": {
      "name": "python"
    },
    "accelerator": "GPU"
  },
  "nbformat": 4,
  "nbformat_minor": 0
}